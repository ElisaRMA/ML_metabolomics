{
 "cells": [
  {
   "cell_type": "markdown",
   "metadata": {},
   "source": [
    "This notebook was the first experiment in which the data from Maytenus and Mikania were converted into mzXML, processed by XCMS and the data table was inputted into the algorithms. The algorithms used were random forest, svc and knn."
   ]
  },
  {
   "cell_type": "markdown",
   "metadata": {},
   "source": [
    "# Imports"
   ]
  },
  {
   "cell_type": "code",
   "execution_count": 1,
   "metadata": {
    "ExecuteTime": {
     "end_time": "2022-10-04T11:48:14.454340Z",
     "start_time": "2022-10-04T11:48:13.346471Z"
    },
    "id": "5rsmCjF8TePy"
   },
   "outputs": [],
   "source": [
    "import pandas as pd\n",
    "import numpy as np\n",
    "from sklearn.model_selection import train_test_split\n",
    "from sklearn import svm\n",
    "from sklearn import metrics\n",
    "from sklearn.ensemble import RandomForestClassifier\n",
    "from sklearn.neighbors import KNeighborsClassifier\n",
    "import mlflow.sklearn\n",
    "import mlflow"
   ]
  },
  {
   "cell_type": "markdown",
   "metadata": {},
   "source": [
    "# Maytenus experiment"
   ]
  },
  {
   "cell_type": "code",
   "execution_count": 26,
   "metadata": {},
   "outputs": [
    {
     "data": {
      "text/plain": [
       "'250956917842642303'"
      ]
     },
     "execution_count": 26,
     "metadata": {},
     "output_type": "execute_result"
    }
   ],
   "source": [
    "mlflow.create_experiment('phd_experiment1_test2')\n"
   ]
  },
  {
   "cell_type": "code",
   "execution_count": 27,
   "metadata": {},
   "outputs": [],
   "source": [
    "mlflow.set_experiment_tag('sklearn', 'experiment1')\n"
   ]
  },
  {
   "cell_type": "code",
   "execution_count": 28,
   "metadata": {},
   "outputs": [
    {
     "data": {
      "text/plain": [
       "<Experiment: artifact_location='file:///d:/Users/Elisa/Documents/Dev/Python/doutorado/mlruns/250956917842642303', creation_time=1720744625260, experiment_id='250956917842642303', last_update_time=1720744625260, lifecycle_stage='active', name='phd_experiment1_test2', tags={}>"
      ]
     },
     "execution_count": 28,
     "metadata": {},
     "output_type": "execute_result"
    }
   ],
   "source": [
    "mlflow.set_experiment('phd_experiment1_test2')\n"
   ]
  },
  {
   "cell_type": "code",
   "execution_count": 29,
   "metadata": {},
   "outputs": [],
   "source": [
    "mlflow.sklearn.autolog()"
   ]
  },
  {
   "cell_type": "code",
   "execution_count": 30,
   "metadata": {
    "ExecuteTime": {
     "end_time": "2022-10-04T11:49:17.003058Z",
     "start_time": "2022-10-04T11:49:16.922101Z"
    },
    "colab": {
     "base_uri": "https://localhost:8080/"
    },
    "id": "TepCYlpTT8iF",
    "outputId": "8cb346d4-7796-4661-be10-b76821c94979"
   },
   "outputs": [
    {
     "data": {
      "text/html": [
       "<div>\n",
       "<style scoped>\n",
       "    .dataframe tbody tr th:only-of-type {\n",
       "        vertical-align: middle;\n",
       "    }\n",
       "\n",
       "    .dataframe tbody tr th {\n",
       "        vertical-align: top;\n",
       "    }\n",
       "\n",
       "    .dataframe thead th {\n",
       "        text-align: right;\n",
       "    }\n",
       "</style>\n",
       "<table border=\"1\" class=\"dataframe\">\n",
       "  <thead>\n",
       "    <tr style=\"text-align: right;\">\n",
       "      <th></th>\n",
       "      <th>Label</th>\n",
       "      <th>103_1.12</th>\n",
       "      <th>103_1.12.1</th>\n",
       "      <th>103_1.1</th>\n",
       "      <th>103_1.09</th>\n",
       "      <th>103_1.07</th>\n",
       "      <th>106_9.3</th>\n",
       "      <th>106_7.79</th>\n",
       "      <th>108_9.33</th>\n",
       "      <th>109_9.33</th>\n",
       "      <th>...</th>\n",
       "      <th>834_4.38.1</th>\n",
       "      <th>834_3.29</th>\n",
       "      <th>834_4.37</th>\n",
       "      <th>834_3.28.1</th>\n",
       "      <th>834_3.3</th>\n",
       "      <th>851_4.33</th>\n",
       "      <th>851_4.35</th>\n",
       "      <th>851_4.35.1</th>\n",
       "      <th>897_0.77</th>\n",
       "      <th>897_0.77.1</th>\n",
       "    </tr>\n",
       "  </thead>\n",
       "  <tbody>\n",
       "    <tr>\n",
       "      <th>AQ1_1</th>\n",
       "      <td>NEG</td>\n",
       "      <td>16294502.99</td>\n",
       "      <td>17362607.52</td>\n",
       "      <td>17664175.16</td>\n",
       "      <td>18097706.53</td>\n",
       "      <td>17839843.32</td>\n",
       "      <td>424674398.7</td>\n",
       "      <td>434826165.5</td>\n",
       "      <td>48132485.44</td>\n",
       "      <td>47526483.00</td>\n",
       "      <td>...</td>\n",
       "      <td>7297916.559</td>\n",
       "      <td>5442430.169</td>\n",
       "      <td>6949476.031</td>\n",
       "      <td>5416015.351</td>\n",
       "      <td>5455833.956</td>\n",
       "      <td>29210774.43</td>\n",
       "      <td>30731767.78</td>\n",
       "      <td>31079238.59</td>\n",
       "      <td>14661088.40</td>\n",
       "      <td>14662360.43</td>\n",
       "    </tr>\n",
       "    <tr>\n",
       "      <th>AQ1_2</th>\n",
       "      <td>NEG</td>\n",
       "      <td>18407654.35</td>\n",
       "      <td>19423501.73</td>\n",
       "      <td>20041306.97</td>\n",
       "      <td>19888290.93</td>\n",
       "      <td>19851034.38</td>\n",
       "      <td>406841614.4</td>\n",
       "      <td>368072699.0</td>\n",
       "      <td>47516613.62</td>\n",
       "      <td>49938770.72</td>\n",
       "      <td>...</td>\n",
       "      <td>8365314.456</td>\n",
       "      <td>6752169.706</td>\n",
       "      <td>7903797.155</td>\n",
       "      <td>7294786.744</td>\n",
       "      <td>7319313.580</td>\n",
       "      <td>27186142.20</td>\n",
       "      <td>29218638.30</td>\n",
       "      <td>28981565.79</td>\n",
       "      <td>14927553.85</td>\n",
       "      <td>14939828.07</td>\n",
       "    </tr>\n",
       "    <tr>\n",
       "      <th>AQ1_3</th>\n",
       "      <td>NEG</td>\n",
       "      <td>17500913.60</td>\n",
       "      <td>17886640.76</td>\n",
       "      <td>18156204.83</td>\n",
       "      <td>18059551.10</td>\n",
       "      <td>18024410.33</td>\n",
       "      <td>402954498.2</td>\n",
       "      <td>397546633.1</td>\n",
       "      <td>50251527.41</td>\n",
       "      <td>53276066.98</td>\n",
       "      <td>...</td>\n",
       "      <td>7401156.922</td>\n",
       "      <td>6305541.424</td>\n",
       "      <td>7120978.747</td>\n",
       "      <td>5518740.166</td>\n",
       "      <td>5774746.113</td>\n",
       "      <td>30757957.85</td>\n",
       "      <td>32380653.57</td>\n",
       "      <td>32418649.55</td>\n",
       "      <td>15469008.45</td>\n",
       "      <td>15641979.60</td>\n",
       "    </tr>\n",
       "    <tr>\n",
       "      <th>AQ10_1</th>\n",
       "      <td>NEG</td>\n",
       "      <td>12491398.40</td>\n",
       "      <td>13045610.95</td>\n",
       "      <td>13258846.15</td>\n",
       "      <td>12525414.15</td>\n",
       "      <td>13832097.59</td>\n",
       "      <td>423035837.9</td>\n",
       "      <td>509247544.5</td>\n",
       "      <td>48937343.91</td>\n",
       "      <td>66627587.11</td>\n",
       "      <td>...</td>\n",
       "      <td>7644898.447</td>\n",
       "      <td>5397300.372</td>\n",
       "      <td>7515828.786</td>\n",
       "      <td>6199007.902</td>\n",
       "      <td>6336676.954</td>\n",
       "      <td>27576977.95</td>\n",
       "      <td>29461682.31</td>\n",
       "      <td>29219512.28</td>\n",
       "      <td>12780753.82</td>\n",
       "      <td>12947861.69</td>\n",
       "    </tr>\n",
       "    <tr>\n",
       "      <th>AQ10_2</th>\n",
       "      <td>NEG</td>\n",
       "      <td>12486767.95</td>\n",
       "      <td>13515418.94</td>\n",
       "      <td>13817378.26</td>\n",
       "      <td>13925906.29</td>\n",
       "      <td>13700964.24</td>\n",
       "      <td>521602586.1</td>\n",
       "      <td>320375119.8</td>\n",
       "      <td>49511600.02</td>\n",
       "      <td>52275758.09</td>\n",
       "      <td>...</td>\n",
       "      <td>8008114.695</td>\n",
       "      <td>5594084.842</td>\n",
       "      <td>7795632.861</td>\n",
       "      <td>4973430.867</td>\n",
       "      <td>5103469.785</td>\n",
       "      <td>28266351.65</td>\n",
       "      <td>29539527.98</td>\n",
       "      <td>29593459.58</td>\n",
       "      <td>14233555.54</td>\n",
       "      <td>14233797.53</td>\n",
       "    </tr>\n",
       "  </tbody>\n",
       "</table>\n",
       "<p>5 rows × 267 columns</p>\n",
       "</div>"
      ],
      "text/plain": [
       "       Label     103_1.12   103_1.12.1      103_1.1     103_1.09     103_1.07  \\\n",
       "AQ1_1    NEG  16294502.99  17362607.52  17664175.16  18097706.53  17839843.32   \n",
       "AQ1_2    NEG  18407654.35  19423501.73  20041306.97  19888290.93  19851034.38   \n",
       "AQ1_3    NEG  17500913.60  17886640.76  18156204.83  18059551.10  18024410.33   \n",
       "AQ10_1   NEG  12491398.40  13045610.95  13258846.15  12525414.15  13832097.59   \n",
       "AQ10_2   NEG  12486767.95  13515418.94  13817378.26  13925906.29  13700964.24   \n",
       "\n",
       "            106_9.3     106_7.79     108_9.33     109_9.33  ...   834_4.38.1  \\\n",
       "AQ1_1   424674398.7  434826165.5  48132485.44  47526483.00  ...  7297916.559   \n",
       "AQ1_2   406841614.4  368072699.0  47516613.62  49938770.72  ...  8365314.456   \n",
       "AQ1_3   402954498.2  397546633.1  50251527.41  53276066.98  ...  7401156.922   \n",
       "AQ10_1  423035837.9  509247544.5  48937343.91  66627587.11  ...  7644898.447   \n",
       "AQ10_2  521602586.1  320375119.8  49511600.02  52275758.09  ...  8008114.695   \n",
       "\n",
       "           834_3.29     834_4.37   834_3.28.1      834_3.3     851_4.33  \\\n",
       "AQ1_1   5442430.169  6949476.031  5416015.351  5455833.956  29210774.43   \n",
       "AQ1_2   6752169.706  7903797.155  7294786.744  7319313.580  27186142.20   \n",
       "AQ1_3   6305541.424  7120978.747  5518740.166  5774746.113  30757957.85   \n",
       "AQ10_1  5397300.372  7515828.786  6199007.902  6336676.954  27576977.95   \n",
       "AQ10_2  5594084.842  7795632.861  4973430.867  5103469.785  28266351.65   \n",
       "\n",
       "           851_4.35   851_4.35.1     897_0.77   897_0.77.1  \n",
       "AQ1_1   30731767.78  31079238.59  14661088.40  14662360.43  \n",
       "AQ1_2   29218638.30  28981565.79  14927553.85  14939828.07  \n",
       "AQ1_3   32380653.57  32418649.55  15469008.45  15641979.60  \n",
       "AQ10_1  29461682.31  29219512.28  12780753.82  12947861.69  \n",
       "AQ10_2  29539527.98  29593459.58  14233555.54  14233797.53  \n",
       "\n",
       "[5 rows x 267 columns]"
      ]
     },
     "execution_count": 30,
     "metadata": {},
     "output_type": "execute_result"
    }
   ],
   "source": [
    "experiment1 = pd.read_csv('1. Experiment 1 - algorithms standard parameters - data/maytenus_qc_posneglabel.csv', index_col=[0]) \n",
    "experiment1.head()"
   ]
  },
  {
   "cell_type": "code",
   "execution_count": 31,
   "metadata": {
    "ExecuteTime": {
     "end_time": "2022-10-04T11:49:36.385505Z",
     "start_time": "2022-10-04T11:49:36.368552Z"
    }
   },
   "outputs": [],
   "source": [
    "num_cols = len(experiment1.columns)\n",
    "X = experiment1.iloc[:, 1:num_cols]\n",
    "y = experiment1.iloc[:, 0]"
   ]
  },
  {
   "cell_type": "code",
   "execution_count": 4,
   "metadata": {
    "ExecuteTime": {
     "end_time": "2022-10-04T11:49:37.666518Z",
     "start_time": "2022-10-04T11:49:37.633622Z"
    }
   },
   "outputs": [
    {
     "data": {
      "text/html": [
       "<div>\n",
       "<style scoped>\n",
       "    .dataframe tbody tr th:only-of-type {\n",
       "        vertical-align: middle;\n",
       "    }\n",
       "\n",
       "    .dataframe tbody tr th {\n",
       "        vertical-align: top;\n",
       "    }\n",
       "\n",
       "    .dataframe thead th {\n",
       "        text-align: right;\n",
       "    }\n",
       "</style>\n",
       "<table border=\"1\" class=\"dataframe\">\n",
       "  <thead>\n",
       "    <tr style=\"text-align: right;\">\n",
       "      <th></th>\n",
       "      <th>103_1.12</th>\n",
       "      <th>103_1.12.1</th>\n",
       "      <th>103_1.1</th>\n",
       "      <th>103_1.09</th>\n",
       "      <th>103_1.07</th>\n",
       "      <th>106_9.3</th>\n",
       "      <th>106_7.79</th>\n",
       "      <th>108_9.33</th>\n",
       "      <th>109_9.33</th>\n",
       "      <th>109_9.33.1</th>\n",
       "      <th>...</th>\n",
       "      <th>834_4.38.1</th>\n",
       "      <th>834_3.29</th>\n",
       "      <th>834_4.37</th>\n",
       "      <th>834_3.28.1</th>\n",
       "      <th>834_3.3</th>\n",
       "      <th>851_4.33</th>\n",
       "      <th>851_4.35</th>\n",
       "      <th>851_4.35.1</th>\n",
       "      <th>897_0.77</th>\n",
       "      <th>897_0.77.1</th>\n",
       "    </tr>\n",
       "  </thead>\n",
       "  <tbody>\n",
       "    <tr>\n",
       "      <th>AQ1_1</th>\n",
       "      <td>16294502.99</td>\n",
       "      <td>17362607.52</td>\n",
       "      <td>17664175.16</td>\n",
       "      <td>18097706.53</td>\n",
       "      <td>17839843.32</td>\n",
       "      <td>424674398.7</td>\n",
       "      <td>434826165.5</td>\n",
       "      <td>48132485.44</td>\n",
       "      <td>47526483.00</td>\n",
       "      <td>52412856.12</td>\n",
       "      <td>...</td>\n",
       "      <td>7297916.559</td>\n",
       "      <td>5442430.169</td>\n",
       "      <td>6949476.031</td>\n",
       "      <td>5416015.351</td>\n",
       "      <td>5455833.956</td>\n",
       "      <td>29210774.43</td>\n",
       "      <td>30731767.78</td>\n",
       "      <td>31079238.59</td>\n",
       "      <td>14661088.40</td>\n",
       "      <td>14662360.43</td>\n",
       "    </tr>\n",
       "    <tr>\n",
       "      <th>AQ1_2</th>\n",
       "      <td>18407654.35</td>\n",
       "      <td>19423501.73</td>\n",
       "      <td>20041306.97</td>\n",
       "      <td>19888290.93</td>\n",
       "      <td>19851034.38</td>\n",
       "      <td>406841614.4</td>\n",
       "      <td>368072699.0</td>\n",
       "      <td>47516613.62</td>\n",
       "      <td>49938770.72</td>\n",
       "      <td>51649817.51</td>\n",
       "      <td>...</td>\n",
       "      <td>8365314.456</td>\n",
       "      <td>6752169.706</td>\n",
       "      <td>7903797.155</td>\n",
       "      <td>7294786.744</td>\n",
       "      <td>7319313.580</td>\n",
       "      <td>27186142.20</td>\n",
       "      <td>29218638.30</td>\n",
       "      <td>28981565.79</td>\n",
       "      <td>14927553.85</td>\n",
       "      <td>14939828.07</td>\n",
       "    </tr>\n",
       "    <tr>\n",
       "      <th>AQ1_3</th>\n",
       "      <td>17500913.60</td>\n",
       "      <td>17886640.76</td>\n",
       "      <td>18156204.83</td>\n",
       "      <td>18059551.10</td>\n",
       "      <td>18024410.33</td>\n",
       "      <td>402954498.2</td>\n",
       "      <td>397546633.1</td>\n",
       "      <td>50251527.41</td>\n",
       "      <td>53276066.98</td>\n",
       "      <td>54274597.67</td>\n",
       "      <td>...</td>\n",
       "      <td>7401156.922</td>\n",
       "      <td>6305541.424</td>\n",
       "      <td>7120978.747</td>\n",
       "      <td>5518740.166</td>\n",
       "      <td>5774746.113</td>\n",
       "      <td>30757957.85</td>\n",
       "      <td>32380653.57</td>\n",
       "      <td>32418649.55</td>\n",
       "      <td>15469008.45</td>\n",
       "      <td>15641979.60</td>\n",
       "    </tr>\n",
       "    <tr>\n",
       "      <th>AQ10_1</th>\n",
       "      <td>12491398.40</td>\n",
       "      <td>13045610.95</td>\n",
       "      <td>13258846.15</td>\n",
       "      <td>12525414.15</td>\n",
       "      <td>13832097.59</td>\n",
       "      <td>423035837.9</td>\n",
       "      <td>509247544.5</td>\n",
       "      <td>48937343.91</td>\n",
       "      <td>66627587.11</td>\n",
       "      <td>53888176.10</td>\n",
       "      <td>...</td>\n",
       "      <td>7644898.447</td>\n",
       "      <td>5397300.372</td>\n",
       "      <td>7515828.786</td>\n",
       "      <td>6199007.902</td>\n",
       "      <td>6336676.954</td>\n",
       "      <td>27576977.95</td>\n",
       "      <td>29461682.31</td>\n",
       "      <td>29219512.28</td>\n",
       "      <td>12780753.82</td>\n",
       "      <td>12947861.69</td>\n",
       "    </tr>\n",
       "    <tr>\n",
       "      <th>AQ10_2</th>\n",
       "      <td>12486767.95</td>\n",
       "      <td>13515418.94</td>\n",
       "      <td>13817378.26</td>\n",
       "      <td>13925906.29</td>\n",
       "      <td>13700964.24</td>\n",
       "      <td>521602586.1</td>\n",
       "      <td>320375119.8</td>\n",
       "      <td>49511600.02</td>\n",
       "      <td>52275758.09</td>\n",
       "      <td>44470057.18</td>\n",
       "      <td>...</td>\n",
       "      <td>8008114.695</td>\n",
       "      <td>5594084.842</td>\n",
       "      <td>7795632.861</td>\n",
       "      <td>4973430.867</td>\n",
       "      <td>5103469.785</td>\n",
       "      <td>28266351.65</td>\n",
       "      <td>29539527.98</td>\n",
       "      <td>29593459.58</td>\n",
       "      <td>14233555.54</td>\n",
       "      <td>14233797.53</td>\n",
       "    </tr>\n",
       "  </tbody>\n",
       "</table>\n",
       "<p>5 rows × 266 columns</p>\n",
       "</div>"
      ],
      "text/plain": [
       "           103_1.12   103_1.12.1      103_1.1     103_1.09     103_1.07  \\\n",
       "AQ1_1   16294502.99  17362607.52  17664175.16  18097706.53  17839843.32   \n",
       "AQ1_2   18407654.35  19423501.73  20041306.97  19888290.93  19851034.38   \n",
       "AQ1_3   17500913.60  17886640.76  18156204.83  18059551.10  18024410.33   \n",
       "AQ10_1  12491398.40  13045610.95  13258846.15  12525414.15  13832097.59   \n",
       "AQ10_2  12486767.95  13515418.94  13817378.26  13925906.29  13700964.24   \n",
       "\n",
       "            106_9.3     106_7.79     108_9.33     109_9.33   109_9.33.1  ...  \\\n",
       "AQ1_1   424674398.7  434826165.5  48132485.44  47526483.00  52412856.12  ...   \n",
       "AQ1_2   406841614.4  368072699.0  47516613.62  49938770.72  51649817.51  ...   \n",
       "AQ1_3   402954498.2  397546633.1  50251527.41  53276066.98  54274597.67  ...   \n",
       "AQ10_1  423035837.9  509247544.5  48937343.91  66627587.11  53888176.10  ...   \n",
       "AQ10_2  521602586.1  320375119.8  49511600.02  52275758.09  44470057.18  ...   \n",
       "\n",
       "         834_4.38.1     834_3.29     834_4.37   834_3.28.1      834_3.3  \\\n",
       "AQ1_1   7297916.559  5442430.169  6949476.031  5416015.351  5455833.956   \n",
       "AQ1_2   8365314.456  6752169.706  7903797.155  7294786.744  7319313.580   \n",
       "AQ1_3   7401156.922  6305541.424  7120978.747  5518740.166  5774746.113   \n",
       "AQ10_1  7644898.447  5397300.372  7515828.786  6199007.902  6336676.954   \n",
       "AQ10_2  8008114.695  5594084.842  7795632.861  4973430.867  5103469.785   \n",
       "\n",
       "           851_4.33     851_4.35   851_4.35.1     897_0.77   897_0.77.1  \n",
       "AQ1_1   29210774.43  30731767.78  31079238.59  14661088.40  14662360.43  \n",
       "AQ1_2   27186142.20  29218638.30  28981565.79  14927553.85  14939828.07  \n",
       "AQ1_3   30757957.85  32380653.57  32418649.55  15469008.45  15641979.60  \n",
       "AQ10_1  27576977.95  29461682.31  29219512.28  12780753.82  12947861.69  \n",
       "AQ10_2  28266351.65  29539527.98  29593459.58  14233555.54  14233797.53  \n",
       "\n",
       "[5 rows x 266 columns]"
      ]
     },
     "execution_count": 4,
     "metadata": {},
     "output_type": "execute_result"
    }
   ],
   "source": [
    "X.head()"
   ]
  },
  {
   "cell_type": "code",
   "execution_count": 32,
   "metadata": {
    "ExecuteTime": {
     "end_time": "2022-10-04T11:49:39.171728Z",
     "start_time": "2022-10-04T11:49:39.153258Z"
    }
   },
   "outputs": [
    {
     "name": "stdout",
     "output_type": "stream",
     "text": [
      "AQ1_1     0\n",
      "AQ1_2     0\n",
      "AQ1_3     0\n",
      "AQ10_1    0\n",
      "AQ10_2    0\n",
      "         ..\n",
      "IL98_2    1\n",
      "IL98_3    1\n",
      "IL99_1    1\n",
      "IL99_2    1\n",
      "IL99_3    1\n",
      "Name: Label, Length: 1201, dtype: int64\n"
     ]
    }
   ],
   "source": [
    "y = y.replace(\"NEG\",0)\n",
    "y = y.replace(\"POS\",1)\n",
    "print(y)"
   ]
  },
  {
   "cell_type": "code",
   "execution_count": 33,
   "metadata": {
    "ExecuteTime": {
     "end_time": "2022-10-04T11:51:10.340423Z",
     "start_time": "2022-10-04T11:51:10.169284Z"
    },
    "id": "rOEeE_h9XS-I"
   },
   "outputs": [
    {
     "name": "stderr",
     "output_type": "stream",
     "text": [
      "2024/07/11 21:37:31 INFO mlflow.utils.autologging_utils: Created MLflow autologging run with ID 'b072da499e9d48069da7352abb21abca', which will track hyperparameters, performance metrics, model artifacts, and lineage information for the current sklearn workflow\n"
     ]
    }
   ],
   "source": [
    "X_train, X_test, y_train, y_test = train_test_split( X, y, test_size=0.33, random_state=2187)\n",
    "\n",
    "#Create a svm Classifier\n",
    "svm_clf = svm.SVC(kernel='rbf') # RBF Kernel\n",
    "\n",
    "#Train the model using the training sets\n",
    "svm_clf.fit(X_train, y_train)\n",
    "\n",
    "#Predict the response for test dataset\n",
    "y_pred = svm_clf.predict(X_test)"
   ]
  },
  {
   "cell_type": "code",
   "execution_count": 25,
   "metadata": {
    "ExecuteTime": {
     "end_time": "2022-10-04T11:51:12.071638Z",
     "start_time": "2022-10-04T11:51:12.016770Z"
    },
    "colab": {
     "base_uri": "https://localhost:8080/"
    },
    "id": "D0FOj8okYcvA",
    "outputId": "530e9dcc-d9ed-4354-c7f6-81fcdcdb057e"
   },
   "outputs": [
    {
     "name": "stdout",
     "output_type": "stream",
     "text": [
      "SVM\n",
      "F1 score: 0.991404011461318\n",
      "MCC score: 0.9846754057599827\n"
     ]
    }
   ],
   "source": [
    "print(\"SVM\")\n",
    "print(\"F1 score:\",metrics.f1_score(y_test, y_pred))\n",
    "print(\"MCC score:\",metrics.matthews_corrcoef(y_test, y_pred))"
   ]
  },
  {
   "cell_type": "code",
   "execution_count": 24,
   "metadata": {
    "ExecuteTime": {
     "end_time": "2022-10-04T11:53:10.157414Z",
     "start_time": "2022-10-04T11:53:09.912347Z"
    },
    "id": "xivnwLQDZhlL"
   },
   "outputs": [],
   "source": [
    "rf_clf = RandomForestClassifier(max_depth=2, random_state=2187)\n",
    "#Train the model using the training sets\n",
    "rf_clf.fit(X_train, y_train)\n",
    "\n",
    "#Predict the response for test dataset\n",
    "y_pred = rf_clf.predict(X_test)"
   ]
  },
  {
   "cell_type": "code",
   "execution_count": 25,
   "metadata": {
    "ExecuteTime": {
     "end_time": "2022-10-04T11:53:15.051087Z",
     "start_time": "2022-10-04T11:53:15.041145Z"
    },
    "colab": {
     "base_uri": "https://localhost:8080/"
    },
    "id": "uKY9hNQZaDlO",
    "outputId": "b96ef962-0614-4e56-ce96-fb25ec2045ca"
   },
   "outputs": [
    {
     "name": "stdout",
     "output_type": "stream",
     "text": [
      "Random Forest\n",
      "F1 score: 0.9971509971509972\n",
      "MCC score: 0.9949066645114361\n"
     ]
    }
   ],
   "source": [
    "print(\"Random Forest\")\n",
    "print(\"F1 score:\",metrics.f1_score(y_test, y_pred))\n",
    "print(\"MCC score:\",metrics.matthews_corrcoef(y_test, y_pred))"
   ]
  },
  {
   "cell_type": "code",
   "execution_count": 26,
   "metadata": {
    "ExecuteTime": {
     "end_time": "2022-10-04T11:53:51.292896Z",
     "start_time": "2022-10-04T11:53:50.841241Z"
    },
    "id": "K5qZNH3OaZyH"
   },
   "outputs": [],
   "source": [
    "knn_clf = KNeighborsClassifier(n_neighbors=3)\n",
    "knn_clf.fit(X, y)\n",
    "#Predict the response for test dataset\n",
    "y_pred = knn_clf.predict(X_test)"
   ]
  },
  {
   "cell_type": "code",
   "execution_count": 27,
   "metadata": {
    "ExecuteTime": {
     "end_time": "2022-10-04T11:53:52.071151Z",
     "start_time": "2022-10-04T11:53:52.064190Z"
    },
    "colab": {
     "base_uri": "https://localhost:8080/"
    },
    "id": "GXGDCfO1ah9V",
    "outputId": "5148fc0e-3dd7-4d8c-a432-1ca86c1a1f57"
   },
   "outputs": [
    {
     "name": "stdout",
     "output_type": "stream",
     "text": [
      "KNN\n",
      "F1 score: 1.0\n",
      "MCC score: 1.0\n"
     ]
    }
   ],
   "source": [
    "print(\"KNN\")\n",
    "print(\"F1 score:\",metrics.f1_score(y_test, y_pred))\n",
    "print(\"MCC score:\",metrics.matthews_corrcoef(y_test, y_pred))"
   ]
  },
  {
   "cell_type": "markdown",
   "metadata": {},
   "source": [
    "# Mikania Experiment"
   ]
  },
  {
   "cell_type": "code",
   "execution_count": 28,
   "metadata": {
    "ExecuteTime": {
     "end_time": "2022-10-04T12:00:37.590452Z",
     "start_time": "2022-10-04T12:00:37.537593Z"
    },
    "colab": {
     "base_uri": "https://localhost:8080/"
    },
    "id": "uNGaIlQUZOWx",
    "outputId": "5b7cb4be-b414-482c-900d-6967cb82a10f"
   },
   "outputs": [],
   "source": [
    "experiment2 = pd.read_csv('mikania_qc_posneg.csv', index_col=[0])  \n",
    "num_cols = len(experiment2.columns)\n",
    "\n",
    "X = experiment2.iloc[:, 1:num_cols]\n",
    "y = experiment2.iloc[:, 0]"
   ]
  },
  {
   "cell_type": "code",
   "execution_count": 29,
   "metadata": {
    "ExecuteTime": {
     "end_time": "2022-10-04T12:00:44.597348Z",
     "start_time": "2022-10-04T12:00:44.577402Z"
    }
   },
   "outputs": [
    {
     "data": {
      "text/html": [
       "<div>\n",
       "<style scoped>\n",
       "    .dataframe tbody tr th:only-of-type {\n",
       "        vertical-align: middle;\n",
       "    }\n",
       "\n",
       "    .dataframe tbody tr th {\n",
       "        vertical-align: top;\n",
       "    }\n",
       "\n",
       "    .dataframe thead th {\n",
       "        text-align: right;\n",
       "    }\n",
       "</style>\n",
       "<table border=\"1\" class=\"dataframe\">\n",
       "  <thead>\n",
       "    <tr style=\"text-align: right;\">\n",
       "      <th></th>\n",
       "      <th>101_8.89</th>\n",
       "      <th>109_0.81</th>\n",
       "      <th>111_0.87</th>\n",
       "      <th>115_8.94</th>\n",
       "      <th>115_8.94.1</th>\n",
       "      <th>115_8.95</th>\n",
       "      <th>116_8.97</th>\n",
       "      <th>116_8.97.1</th>\n",
       "      <th>117_8.94</th>\n",
       "      <th>117_8.94.1</th>\n",
       "      <th>...</th>\n",
       "      <th>653_4.15.1</th>\n",
       "      <th>653_4.1</th>\n",
       "      <th>654_4.05</th>\n",
       "      <th>680_3.04</th>\n",
       "      <th>680_3.07</th>\n",
       "      <th>722_7.28</th>\n",
       "      <th>794_8.84</th>\n",
       "      <th>795_8.85</th>\n",
       "      <th>918_5.91</th>\n",
       "      <th>920_5.99</th>\n",
       "    </tr>\n",
       "  </thead>\n",
       "  <tbody>\n",
       "    <tr>\n",
       "      <th>AQ1_1_mik</th>\n",
       "      <td>32661855.87</td>\n",
       "      <td>4715655.972</td>\n",
       "      <td>35287798.52</td>\n",
       "      <td>17336928.04</td>\n",
       "      <td>17336928.04</td>\n",
       "      <td>17032453.68</td>\n",
       "      <td>79940131.60</td>\n",
       "      <td>79961357.15</td>\n",
       "      <td>183407302.6</td>\n",
       "      <td>1.840507e+08</td>\n",
       "      <td>...</td>\n",
       "      <td>7.795168e+05</td>\n",
       "      <td>9.745124e+05</td>\n",
       "      <td>1.944960e+06</td>\n",
       "      <td>1750869.935</td>\n",
       "      <td>1494056.969</td>\n",
       "      <td>9.072914e+06</td>\n",
       "      <td>31556253.09</td>\n",
       "      <td>16583139.80</td>\n",
       "      <td>2494791.145</td>\n",
       "      <td>4497445.765</td>\n",
       "    </tr>\n",
       "    <tr>\n",
       "      <th>AQ1_2_mik</th>\n",
       "      <td>30375924.35</td>\n",
       "      <td>3673362.332</td>\n",
       "      <td>31700647.17</td>\n",
       "      <td>21972302.34</td>\n",
       "      <td>21110056.30</td>\n",
       "      <td>21616213.10</td>\n",
       "      <td>80055573.85</td>\n",
       "      <td>78012944.34</td>\n",
       "      <td>188048981.0</td>\n",
       "      <td>1.885089e+08</td>\n",
       "      <td>...</td>\n",
       "      <td>1.647374e+06</td>\n",
       "      <td>1.469739e+06</td>\n",
       "      <td>1.365517e+06</td>\n",
       "      <td>1369083.192</td>\n",
       "      <td>1366687.984</td>\n",
       "      <td>1.040138e+07</td>\n",
       "      <td>24782946.45</td>\n",
       "      <td>18086959.30</td>\n",
       "      <td>2866991.558</td>\n",
       "      <td>2266595.074</td>\n",
       "    </tr>\n",
       "    <tr>\n",
       "      <th>AQ1_3_mik</th>\n",
       "      <td>31913824.69</td>\n",
       "      <td>4505200.898</td>\n",
       "      <td>32893958.96</td>\n",
       "      <td>21471528.40</td>\n",
       "      <td>10361328.80</td>\n",
       "      <td>20439389.95</td>\n",
       "      <td>72355485.66</td>\n",
       "      <td>73410501.51</td>\n",
       "      <td>188358286.6</td>\n",
       "      <td>1.897886e+08</td>\n",
       "      <td>...</td>\n",
       "      <td>1.324382e+06</td>\n",
       "      <td>1.402669e+06</td>\n",
       "      <td>6.897296e+05</td>\n",
       "      <td>1671595.320</td>\n",
       "      <td>1795916.625</td>\n",
       "      <td>7.619793e+06</td>\n",
       "      <td>24464848.27</td>\n",
       "      <td>17575466.67</td>\n",
       "      <td>1939780.448</td>\n",
       "      <td>1681073.510</td>\n",
       "    </tr>\n",
       "    <tr>\n",
       "      <th>AQ10_1_mik</th>\n",
       "      <td>29983361.41</td>\n",
       "      <td>3196913.433</td>\n",
       "      <td>33646973.27</td>\n",
       "      <td>16575710.81</td>\n",
       "      <td>17055186.27</td>\n",
       "      <td>10154757.76</td>\n",
       "      <td>57627101.94</td>\n",
       "      <td>62919906.95</td>\n",
       "      <td>158171946.1</td>\n",
       "      <td>9.050570e+07</td>\n",
       "      <td>...</td>\n",
       "      <td>1.950250e+06</td>\n",
       "      <td>1.973577e+06</td>\n",
       "      <td>1.695355e+06</td>\n",
       "      <td>1354876.595</td>\n",
       "      <td>1357452.616</td>\n",
       "      <td>1.161904e+07</td>\n",
       "      <td>22548451.31</td>\n",
       "      <td>14078129.36</td>\n",
       "      <td>1763781.852</td>\n",
       "      <td>2600351.025</td>\n",
       "    </tr>\n",
       "    <tr>\n",
       "      <th>AQ10_2_mik</th>\n",
       "      <td>27653253.04</td>\n",
       "      <td>2391530.034</td>\n",
       "      <td>32950426.96</td>\n",
       "      <td>18104847.28</td>\n",
       "      <td>17460847.30</td>\n",
       "      <td>17911857.08</td>\n",
       "      <td>61335839.71</td>\n",
       "      <td>62051896.10</td>\n",
       "      <td>162472950.7</td>\n",
       "      <td>9.562316e+07</td>\n",
       "      <td>...</td>\n",
       "      <td>8.586613e+05</td>\n",
       "      <td>1.261870e+06</td>\n",
       "      <td>2.655717e+06</td>\n",
       "      <td>1473022.656</td>\n",
       "      <td>1279973.886</td>\n",
       "      <td>1.145932e+07</td>\n",
       "      <td>24062054.25</td>\n",
       "      <td>16489459.81</td>\n",
       "      <td>2807612.863</td>\n",
       "      <td>2897335.029</td>\n",
       "    </tr>\n",
       "  </tbody>\n",
       "</table>\n",
       "<p>5 rows × 164 columns</p>\n",
       "</div>"
      ],
      "text/plain": [
       "               101_8.89     109_0.81     111_0.87     115_8.94   115_8.94.1  \\\n",
       "AQ1_1_mik   32661855.87  4715655.972  35287798.52  17336928.04  17336928.04   \n",
       "AQ1_2_mik   30375924.35  3673362.332  31700647.17  21972302.34  21110056.30   \n",
       "AQ1_3_mik   31913824.69  4505200.898  32893958.96  21471528.40  10361328.80   \n",
       "AQ10_1_mik  29983361.41  3196913.433  33646973.27  16575710.81  17055186.27   \n",
       "AQ10_2_mik  27653253.04  2391530.034  32950426.96  18104847.28  17460847.30   \n",
       "\n",
       "               115_8.95     116_8.97   116_8.97.1     117_8.94    117_8.94.1  \\\n",
       "AQ1_1_mik   17032453.68  79940131.60  79961357.15  183407302.6  1.840507e+08   \n",
       "AQ1_2_mik   21616213.10  80055573.85  78012944.34  188048981.0  1.885089e+08   \n",
       "AQ1_3_mik   20439389.95  72355485.66  73410501.51  188358286.6  1.897886e+08   \n",
       "AQ10_1_mik  10154757.76  57627101.94  62919906.95  158171946.1  9.050570e+07   \n",
       "AQ10_2_mik  17911857.08  61335839.71  62051896.10  162472950.7  9.562316e+07   \n",
       "\n",
       "            ...    653_4.15.1       653_4.1      654_4.05     680_3.04  \\\n",
       "AQ1_1_mik   ...  7.795168e+05  9.745124e+05  1.944960e+06  1750869.935   \n",
       "AQ1_2_mik   ...  1.647374e+06  1.469739e+06  1.365517e+06  1369083.192   \n",
       "AQ1_3_mik   ...  1.324382e+06  1.402669e+06  6.897296e+05  1671595.320   \n",
       "AQ10_1_mik  ...  1.950250e+06  1.973577e+06  1.695355e+06  1354876.595   \n",
       "AQ10_2_mik  ...  8.586613e+05  1.261870e+06  2.655717e+06  1473022.656   \n",
       "\n",
       "               680_3.07      722_7.28     794_8.84     795_8.85     918_5.91  \\\n",
       "AQ1_1_mik   1494056.969  9.072914e+06  31556253.09  16583139.80  2494791.145   \n",
       "AQ1_2_mik   1366687.984  1.040138e+07  24782946.45  18086959.30  2866991.558   \n",
       "AQ1_3_mik   1795916.625  7.619793e+06  24464848.27  17575466.67  1939780.448   \n",
       "AQ10_1_mik  1357452.616  1.161904e+07  22548451.31  14078129.36  1763781.852   \n",
       "AQ10_2_mik  1279973.886  1.145932e+07  24062054.25  16489459.81  2807612.863   \n",
       "\n",
       "               920_5.99  \n",
       "AQ1_1_mik   4497445.765  \n",
       "AQ1_2_mik   2266595.074  \n",
       "AQ1_3_mik   1681073.510  \n",
       "AQ10_1_mik  2600351.025  \n",
       "AQ10_2_mik  2897335.029  \n",
       "\n",
       "[5 rows x 164 columns]"
      ]
     },
     "execution_count": 29,
     "metadata": {},
     "output_type": "execute_result"
    }
   ],
   "source": [
    "X.head()"
   ]
  },
  {
   "cell_type": "code",
   "execution_count": 31,
   "metadata": {
    "ExecuteTime": {
     "end_time": "2022-10-04T12:00:50.605178Z",
     "start_time": "2022-10-04T12:00:50.593210Z"
    }
   },
   "outputs": [
    {
     "data": {
      "text/plain": [
       "AQ1_1_mik     0\n",
       "AQ1_2_mik     0\n",
       "AQ1_3_mik     0\n",
       "AQ10_1_mik    0\n",
       "AQ10_2_mik    0\n",
       "             ..\n",
       "ML98_2_mik    1\n",
       "ML98_3_mik    1\n",
       "ML99_1_mik    1\n",
       "ML99_2_mik    1\n",
       "ML99_3_mik    1\n",
       "Name: Label, Length: 1200, dtype: int64"
      ]
     },
     "execution_count": 31,
     "metadata": {},
     "output_type": "execute_result"
    }
   ],
   "source": [
    "y = y.replace(\"NEG\",0)\n",
    "y = y.replace(\"POS\",1)\n",
    "y"
   ]
  },
  {
   "cell_type": "code",
   "execution_count": 33,
   "metadata": {
    "ExecuteTime": {
     "end_time": "2022-10-04T12:00:59.075305Z",
     "start_time": "2022-10-04T12:00:59.056361Z"
    },
    "id": "VMQy7Y-XZXtx"
   },
   "outputs": [],
   "source": [
    "X_train, X_test, y_train, y_test = train_test_split( X, y, test_size=0.33, random_state=2187)"
   ]
  },
  {
   "cell_type": "code",
   "execution_count": 34,
   "metadata": {
    "ExecuteTime": {
     "end_time": "2022-10-04T12:01:09.564593Z",
     "start_time": "2022-10-04T12:01:09.530041Z"
    },
    "id": "hM5-SiwAZa3u"
   },
   "outputs": [],
   "source": [
    "#Import svm model\n",
    "\n",
    "#Create a svm Classifier\n",
    "svm_clf = svm.SVC(kernel='rbf') # RBF Kernel\n",
    "\n",
    "#Train the model using the training sets\n",
    "svm_clf.fit(X_train, y_train)\n",
    "\n",
    "#Predict the response for test dataset\n",
    "y_pred = svm_clf.predict(X_test)"
   ]
  },
  {
   "cell_type": "code",
   "execution_count": 36,
   "metadata": {
    "ExecuteTime": {
     "end_time": "2022-10-04T12:01:13.367706Z",
     "start_time": "2022-10-04T12:01:13.360717Z"
    },
    "colab": {
     "base_uri": "https://localhost:8080/"
    },
    "id": "np-AtBqVZdKE",
    "outputId": "bf6690a9-ea8b-4ebe-b933-78ed0a1dc968"
   },
   "outputs": [
    {
     "name": "stdout",
     "output_type": "stream",
     "text": [
      "SVM\n",
      "F1 score: 0.9653179190751444\n",
      "MCC score: 0.9386162452732524\n"
     ]
    }
   ],
   "source": [
    "print(\"SVM\")\n",
    "print(\"F1 score:\",metrics.f1_score(y_test, y_pred))\n",
    "print(\"MCC score:\",metrics.matthews_corrcoef(y_test, y_pred))"
   ]
  },
  {
   "cell_type": "code",
   "execution_count": 37,
   "metadata": {
    "ExecuteTime": {
     "end_time": "2022-10-04T12:02:29.181641Z",
     "start_time": "2022-10-04T12:02:28.968912Z"
    },
    "id": "rIhgsO3UaH1F"
   },
   "outputs": [],
   "source": [
    "rf_clf = RandomForestClassifier(max_depth=2, random_state=0)\n",
    "#Train the model using the training sets\n",
    "rf_clf.fit(X_train, y_train)\n",
    "\n",
    "#Predict the response for test dataset\n",
    "y_pred = rf_clf.predict(X_test)"
   ]
  },
  {
   "cell_type": "code",
   "execution_count": 38,
   "metadata": {
    "ExecuteTime": {
     "end_time": "2022-10-04T12:02:31.806129Z",
     "start_time": "2022-10-04T12:02:31.793164Z"
    },
    "colab": {
     "base_uri": "https://localhost:8080/"
    },
    "id": "aSyJujOuaJ0o",
    "outputId": "d0cffdd1-e68f-4248-9df1-1c62189a7498"
   },
   "outputs": [
    {
     "name": "stdout",
     "output_type": "stream",
     "text": [
      "Random Forest\n",
      "F1 score: 0.9797101449275363\n",
      "MCC score: 0.9643739113669592\n"
     ]
    }
   ],
   "source": [
    "print(\"Random Forest\")\n",
    "print(\"F1 score:\",metrics.f1_score(y_test, y_pred))\n",
    "print(\"MCC score:\",metrics.matthews_corrcoef(y_test, y_pred))"
   ]
  },
  {
   "cell_type": "code",
   "execution_count": 39,
   "metadata": {
    "ExecuteTime": {
     "end_time": "2022-10-04T12:03:17.608249Z",
     "start_time": "2022-10-04T12:03:17.544912Z"
    },
    "id": "0do-oNLPaj2J"
   },
   "outputs": [],
   "source": [
    "knn_clf = KNeighborsClassifier(n_neighbors=3)\n",
    "knn_clf.fit(X, y)\n",
    "#Predict the response for test dataset\n",
    "y_pred = knn_clf.predict(X_test)"
   ]
  },
  {
   "cell_type": "code",
   "execution_count": 40,
   "metadata": {
    "ExecuteTime": {
     "end_time": "2022-10-04T12:03:19.899639Z",
     "start_time": "2022-10-04T12:03:19.885676Z"
    },
    "colab": {
     "base_uri": "https://localhost:8080/"
    },
    "id": "d8ks6dHvargR",
    "outputId": "e02072bf-1fd0-489f-e2d7-2a3c463d89f5"
   },
   "outputs": [
    {
     "name": "stdout",
     "output_type": "stream",
     "text": [
      "KNN\n",
      "F1 score: 0.9886363636363638\n",
      "MCC score: 0.9795972130109438\n"
     ]
    }
   ],
   "source": [
    "print(\"KNN\")\n",
    "print(\"F1 score:\",metrics.f1_score(y_test, y_pred))\n",
    "print(\"MCC score:\",metrics.matthews_corrcoef(y_test, y_pred))"
   ]
  }
 ],
 "metadata": {
  "colab": {
   "provenance": []
  },
  "kernelspec": {
   "display_name": "phd_venv",
   "language": "python",
   "name": "python3"
  },
  "language_info": {
   "codemirror_mode": {
    "name": "ipython",
    "version": 3
   },
   "file_extension": ".py",
   "mimetype": "text/x-python",
   "name": "python",
   "nbconvert_exporter": "python",
   "pygments_lexer": "ipython3",
   "version": "3.9.16"
  },
  "varInspector": {
   "cols": {
    "lenName": 16,
    "lenType": 16,
    "lenVar": 40
   },
   "kernels_config": {
    "python": {
     "delete_cmd_postfix": "",
     "delete_cmd_prefix": "del ",
     "library": "var_list.py",
     "varRefreshCmd": "print(var_dic_list())"
    },
    "r": {
     "delete_cmd_postfix": ") ",
     "delete_cmd_prefix": "rm(",
     "library": "var_list.r",
     "varRefreshCmd": "cat(var_dic_list()) "
    }
   },
   "types_to_exclude": [
    "module",
    "function",
    "builtin_function_or_method",
    "instance",
    "_Feature"
   ],
   "window_display": false
  }
 },
 "nbformat": 4,
 "nbformat_minor": 1
}
